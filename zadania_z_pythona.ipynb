{
  "nbformat": 4,
  "nbformat_minor": 0,
  "metadata": {
    "colab": {
      "name": "zadania z pythona.ipynb",
      "provenance": [],
      "collapsed_sections": [],
      "authorship_tag": "ABX9TyPgM5Hxch/hVU5GAdoqp87d",
      "include_colab_link": true
    },
    "kernelspec": {
      "name": "python3",
      "display_name": "Python 3"
    },
    "language_info": {
      "name": "python"
    }
  },
  "cells": [
    {
      "cell_type": "markdown",
      "metadata": {
        "id": "view-in-github",
        "colab_type": "text"
      },
      "source": [
        "<a href=\"https://colab.research.google.com/github/alelorys/python/blob/master/zadania_z_pythona.ipynb\" target=\"_parent\"><img src=\"https://colab.research.google.com/assets/colab-badge.svg\" alt=\"Open In Colab\"/></a>"
      ]
    },
    {
      "cell_type": "markdown",
      "source": [
        "**Kurs Udemy 100+ Zaawansowanych ćwiczeń z pythona https://www.udemy.com/course/zaawansowane-programowanie-w-jezyku-python/learn/quiz/5208620#overview**"
      ],
      "metadata": {
        "id": "j59UJakYq1wH"
      }
    },
    {
      "cell_type": "code",
      "source": [
        "from itertools import groupby"
      ],
      "metadata": {
        "id": "E_mDY-jNHnJj"
      },
      "execution_count": null,
      "outputs": []
    },
    {
      "cell_type": "code",
      "execution_count": null,
      "metadata": {
        "id": "vtW0K5pypyBA"
      },
      "outputs": [],
      "source": [
        "\n",
        " \n",
        " \n",
        "def compress(number):\n",
        "    result = []\n",
        "    for key, group in groupby(str(number)):\n",
        "        result.append((key, str(len(list(group)))))\n",
        "    result = [''.join(item) for item in result]\n",
        "    return '_'.join(result)"
      ]
    },
    {
      "cell_type": "markdown",
      "source": [
        "Ćwiczenie 14"
      ],
      "metadata": {
        "id": "7iAzQZo5qvxu"
      }
    },
    {
      "cell_type": "code",
      "source": [
        "def compress(number):\n",
        "    result = []\n",
        "    for key, group in groupby(str(number)):\n",
        "        result.append((key, str(len(list(group)))))\n",
        "        \n",
        "    for e, item in enumerate(result):\n",
        "      i = list(item)\n",
        "      i[1] = i[1].replace(i[1], '.'*int(i[1]))\n",
        "      result[e] = i\n",
        "\n",
        "    result = [''.join(item) for item in result]\n",
        "    return ''.join(result)\n",
        "      "
      ],
      "metadata": {
        "id": "1zhzbIaxrbP0"
      },
      "execution_count": null,
      "outputs": []
    },
    {
      "cell_type": "code",
      "source": [
        "def compress(number):\n",
        "    result = []\n",
        "    for key, group in groupby(str(number)):\n",
        "        result.append((key, len(list(group))))\n",
        "    result = [''.join((i, '.' * j)) for i, j in result]\n",
        "    return ''.join(result)"
      ],
      "metadata": {
        "id": "7vFRiUZwu2D4"
      },
      "execution_count": null,
      "outputs": []
    },
    {
      "cell_type": "code",
      "source": [
        "compress(11112215544)"
      ],
      "metadata": {
        "colab": {
          "base_uri": "https://localhost:8080/",
          "height": 35
        },
        "id": "P3M61XDArCId",
        "outputId": "d09ce7f4-092d-462e-88d0-68a28270b346"
      },
      "execution_count": null,
      "outputs": [
        {
          "output_type": "execute_result",
          "data": {
            "application/vnd.google.colaboratory.intrinsic+json": {
              "type": "string"
            },
            "text/plain": [
              "'1....2..1.5..4..'"
            ]
          },
          "metadata": {},
          "execution_count": 32
        }
      ]
    },
    {
      "cell_type": "markdown",
      "source": [
        "Ćwiczenie 15\n"
      ],
      "metadata": {
        "id": "z5f0pLF2HZCs"
      }
    },
    {
      "cell_type": "code",
      "source": [
        "def compress(number):\n",
        "    result = []\n",
        "    for key, group in groupby(str(number)):\n",
        "        result.append((key, str(len(list(group)))))\n",
        "    result = [''.join(item) for item in result]\n",
        "    return '_'.join(result)"
      ],
      "metadata": {
        "id": "pRFkHrsmHar3"
      },
      "execution_count": null,
      "outputs": []
    },
    {
      "cell_type": "code",
      "source": [
        "string = compress(1111555533644)"
      ],
      "metadata": {
        "id": "82dBh0MyHcVB"
      },
      "execution_count": null,
      "outputs": []
    },
    {
      "cell_type": "code",
      "source": [
        "def decompress(string):\n",
        "  elements = string.split(\"_\")\n",
        "  number = ''\n",
        "  for i in elements:\n",
        "    number += i[0] * int(i[1])\n",
        "  \n",
        "  return int(number)"
      ],
      "metadata": {
        "id": "1KDEU58EHqmq"
      },
      "execution_count": null,
      "outputs": []
    },
    {
      "cell_type": "code",
      "source": [
        "decompress(string)"
      ],
      "metadata": {
        "id": "BgHEHckCH45F",
        "outputId": "af38b08b-5103-418a-f627-bda39d75d9ed",
        "colab": {
          "base_uri": "https://localhost:8080/"
        }
      },
      "execution_count": null,
      "outputs": [
        {
          "output_type": "execute_result",
          "data": {
            "text/plain": [
              "1111555533644"
            ]
          },
          "metadata": {},
          "execution_count": 29
        }
      ]
    },
    {
      "cell_type": "markdown",
      "source": [
        "Ćwiczenie 16"
      ],
      "metadata": {
        "id": "JnUeIHQWJsdV"
      }
    },
    {
      "cell_type": "code",
      "source": [
        "class Matrix:\n",
        "  \n",
        "  def __init__(self, string):\n",
        "      self.string = string.split(\"\\n\")\n",
        "      self.matrix = []\n",
        "      for i in self.string:\n",
        "          i = i.split(\" \")\n",
        "          for e, j in enumerate(i):\n",
        "            j = int(j)\n",
        "            i[e] = j\n",
        "          self.matrix.append(i)\n",
        "     \n",
        "\n",
        "\n",
        "matix = Matrix('1 2\\n3 4')\n",
        "matix.matrix"
      ],
      "metadata": {
        "id": "FVxKLx2nJuek",
        "outputId": "723e1d3e-62c9-4aac-edb1-1b3bbdbb1a12",
        "colab": {
          "base_uri": "https://localhost:8080/"
        }
      },
      "execution_count": null,
      "outputs": [
        {
          "output_type": "execute_result",
          "data": {
            "text/plain": [
              "[[1, 2], [3, 4]]"
            ]
          },
          "metadata": {},
          "execution_count": 54
        }
      ]
    },
    {
      "cell_type": "markdown",
      "source": [
        "self.matrix = [[int(i) for i in row.split()] for row in string.splitlines()]"
      ],
      "metadata": {
        "id": "Bblc4scUOSB1"
      }
    },
    {
      "cell_type": "code",
      "source": [
        ""
      ],
      "metadata": {
        "id": "4ShgktaxOPyX"
      },
      "execution_count": null,
      "outputs": []
    },
    {
      "cell_type": "markdown",
      "source": [
        "ćwiczenie 17"
      ],
      "metadata": {
        "id": "C2V7cd2i0LOb"
      }
    },
    {
      "cell_type": "code",
      "source": [
        "class Matrix:\n",
        "    \"\"\"Simple Matrix class.\"\"\"\n",
        "\n",
        "    def __init__(self, string):\n",
        "        self.matrix = [[int(i) for i in row.split()] for row in string.splitlines()]\n",
        "\n",
        "    def __repr__(self):\n",
        "      return '\\n'.join([(' '.join([str(i) for i in row])) for row in self.matrix])\n",
        "      "
      ],
      "metadata": {
        "id": "WWW_ag-x0Ose"
      },
      "execution_count": null,
      "outputs": []
    },
    {
      "cell_type": "code",
      "source": [
        "m = Matrix('1')\n",
        "m.__repr__()"
      ],
      "metadata": {
        "id": "Phkml0qf0dwv",
        "outputId": "db9b6657-ed5f-4c64-fb2a-713c10518046",
        "colab": {
          "base_uri": "https://localhost:8080/",
          "height": 35
        }
      },
      "execution_count": null,
      "outputs": [
        {
          "output_type": "execute_result",
          "data": {
            "application/vnd.google.colaboratory.intrinsic+json": {
              "type": "string"
            },
            "text/plain": [
              "'1'"
            ]
          },
          "metadata": {},
          "execution_count": 19
        }
      ]
    },
    {
      "cell_type": "markdown",
      "source": [
        "ćwiczenie 18\n"
      ],
      "metadata": {
        "id": "_wviGvzo3Ijw"
      }
    },
    {
      "cell_type": "code",
      "source": [
        "class Matrix:\n",
        "    \"\"\"Simple Matrix class.\"\"\"\n",
        "\n",
        "    def __init__(self, string):\n",
        "        self.matrix = [[int(i) for i in row.split()] for row in string.splitlines()]\n",
        "\n",
        "    def __repr__(self):\n",
        "        return '\\n'.join([(' '.join([str(i) for i in row])) for row in self.matrix])\n",
        "\n",
        "    def row(self, idx):\n",
        "      return self.matrix[idx]\n",
        "      "
      ],
      "metadata": {
        "id": "QCC0Ukt33K71"
      },
      "execution_count": null,
      "outputs": []
    },
    {
      "cell_type": "code",
      "source": [
        "m1 = Matrix('4 5\\n6 3')\n",
        "m1.row(0)"
      ],
      "metadata": {
        "id": "1JMdpQAa3qiC",
        "outputId": "088f7c9c-40da-4c64-8c7d-eca4ac75cc7a",
        "colab": {
          "base_uri": "https://localhost:8080/"
        }
      },
      "execution_count": null,
      "outputs": [
        {
          "output_type": "execute_result",
          "data": {
            "text/plain": [
              "[4, 5]"
            ]
          },
          "metadata": {},
          "execution_count": 21
        }
      ]
    },
    {
      "cell_type": "markdown",
      "source": [
        "ćwiczenie 19"
      ],
      "metadata": {
        "id": "jusisxpc3_2_"
      }
    },
    {
      "cell_type": "code",
      "source": [
        "class Matrix:\n",
        "    \"\"\"Simple Matrix class.\"\"\"\n",
        "\n",
        "    def __init__(self, string):\n",
        "        self.matrix = [[int(i) for i in row.split()] for row in string.splitlines()]\n",
        "\n",
        "    def __repr__(self):\n",
        "        return '\\n'.join([(' '.join([str(i) for i in row])) for row in self.matrix])\n",
        "\n",
        "    def row(self, idx):\n",
        "      return self.matrix[idx]\n",
        "\n",
        "    def column(self, idx):\n",
        "      return [row[idx] for row in self.matrix]"
      ],
      "metadata": {
        "id": "vlsz7DSa4B6l"
      },
      "execution_count": null,
      "outputs": []
    },
    {
      "cell_type": "code",
      "source": [
        "m2 = Matrix('3 5\\n9 6')\n",
        "m2.column(0)"
      ],
      "metadata": {
        "id": "J0vm8Atz4xas",
        "outputId": "eacd2ad8-bcfd-4cc5-dbcf-74dbaf62d1cf",
        "colab": {
          "base_uri": "https://localhost:8080/"
        }
      },
      "execution_count": null,
      "outputs": [
        {
          "output_type": "execute_result",
          "data": {
            "text/plain": [
              "[3, 9]"
            ]
          },
          "metadata": {},
          "execution_count": 23
        }
      ]
    },
    {
      "cell_type": "markdown",
      "source": [
        "ćwiczenie 20"
      ],
      "metadata": {
        "id": "VIGxtbm25PNc"
      }
    },
    {
      "cell_type": "code",
      "source": [
        "def hamming_distance(u, v):\n",
        "  count = 0\n",
        "  if len(u) != len(v):\n",
        "    raise ValueError('Both vectors must be the same lenght')\n",
        "  \n",
        "  for i, j in zip(u,v):\n",
        "    if i != j:\n",
        "      count += 1\n",
        "  \n",
        "  return count"
      ],
      "metadata": {
        "id": "T8UrxWYO5T06"
      },
      "execution_count": null,
      "outputs": []
    },
    {
      "cell_type": "code",
      "source": [
        "hamming_distance('11001','10101')"
      ],
      "metadata": {
        "id": "Vq3QF65L6bTP",
        "outputId": "ea1ef0be-884f-4f58-a521-b99d4753f87a",
        "colab": {
          "base_uri": "https://localhost:8080/"
        }
      },
      "execution_count": null,
      "outputs": [
        {
          "output_type": "stream",
          "name": "stdout",
          "text": [
            "1 1\n",
            "1 0\n",
            "0 1\n",
            "0 0\n",
            "1 1\n"
          ]
        },
        {
          "output_type": "execute_result",
          "data": {
            "text/plain": [
              "2"
            ]
          },
          "metadata": {},
          "execution_count": 29
        }
      ]
    },
    {
      "cell_type": "markdown",
      "source": [
        "###ćwiczenie 21\n"
      ],
      "metadata": {
        "id": "mcvi58BE0XXZ"
      }
    },
    {
      "cell_type": "code",
      "source": [
        "def hamming_weight(u):\n",
        "  count = 0\n",
        "  v = len(u)*'0'\n",
        "  \n",
        "  for i, j in zip(u,v):\n",
        "    if i != j:\n",
        "      count += 1\n",
        "  \n",
        "  return count"
      ],
      "metadata": {
        "id": "qHBpW_J_0bpl"
      },
      "execution_count": null,
      "outputs": []
    },
    {
      "cell_type": "code",
      "source": [
        "hamming_weight('1001000')"
      ],
      "metadata": {
        "id": "6q_DTnkZ0uB9",
        "outputId": "87081f9f-d977-4d0e-975c-2e40200aecc1",
        "colab": {
          "base_uri": "https://localhost:8080/"
        }
      },
      "execution_count": null,
      "outputs": [
        {
          "output_type": "stream",
          "name": "stdout",
          "text": [
            "0000000\n"
          ]
        },
        {
          "output_type": "execute_result",
          "data": {
            "text/plain": [
              "2"
            ]
          },
          "metadata": {},
          "execution_count": 6
        }
      ]
    },
    {
      "cell_type": "markdown",
      "source": [
        "###ćwiczenie 22"
      ],
      "metadata": {
        "id": "23gpKb_O14VP"
      }
    },
    {
      "cell_type": "code",
      "source": [
        "def score(word):\n",
        "  points = {' ': 0,\n",
        "            'EAIONRTLSU': 1,\n",
        "            'DG': 2,\n",
        "            'BCMP': 3,\n",
        "            'FHVWY': 4,\n",
        "            'K': 5,\n",
        "            'JX': 8,\n",
        "            'QZ': 10\n",
        "            }\n",
        "  score = 0\n",
        " \n",
        "  for i in points:\n",
        "    for j in word.upper():\n",
        "      if j in i:\n",
        "        score += points[i]\n",
        "    \n",
        "\n",
        "  return score\n",
        "  "
      ],
      "metadata": {
        "id": "kXbfKoN017CC"
      },
      "execution_count": null,
      "outputs": []
    },
    {
      "cell_type": "code",
      "source": [
        "score('cat')"
      ],
      "metadata": {
        "id": "Cug7cjqU34Nr",
        "outputId": "ef23b987-31a5-41a9-c501-9b1aa2669aa9",
        "colab": {
          "base_uri": "https://localhost:8080/"
        }
      },
      "execution_count": null,
      "outputs": [
        {
          "output_type": "execute_result",
          "data": {
            "text/plain": [
              "5"
            ]
          },
          "metadata": {},
          "execution_count": 31
        }
      ]
    },
    {
      "cell_type": "markdown",
      "source": [
        "###ćwiczenie 23"
      ],
      "metadata": {
        "id": "U6mLcqty6ItS"
      }
    },
    {
      "cell_type": "code",
      "source": [
        "def get_slices(sentence, length):\n",
        "  if length > len(sentence):\n",
        "    raise ValueError('The length cannot be greater than sentence.')\n",
        "  \n",
        "  if length < 1:\n",
        "    raise ValueError(\"The lengrh cannot be less than 1.\")\n",
        "\n",
        "  slices = []\n",
        "  i = 1\n",
        "  \n",
        "\n",
        "  for i in range(len(sentence)):\n",
        "    if len(sentence[slice(i, length+i)]) == length:\n",
        "      slices.append(sentence[slice(i, length+i)])\n",
        "\n",
        "  return slices\n"
      ],
      "metadata": {
        "id": "6YkrWPM16Mts"
      },
      "execution_count": null,
      "outputs": []
    },
    {
      "cell_type": "code",
      "source": [
        "get_slices('python', 4)"
      ],
      "metadata": {
        "id": "-nFbpCQw8BPM",
        "outputId": "2bf7005c-ef15-4516-8ec9-f9663a535da2",
        "colab": {
          "base_uri": "https://localhost:8080/"
        }
      },
      "execution_count": null,
      "outputs": [
        {
          "output_type": "execute_result",
          "data": {
            "text/plain": [
              "['pyth', 'ytho', 'thon']"
            ]
          },
          "metadata": {},
          "execution_count": 56
        }
      ]
    },
    {
      "cell_type": "markdown",
      "source": [
        "###ćwiczenie 24"
      ],
      "metadata": {
        "id": "goYYqIoBBsTe"
      }
    },
    {
      "cell_type": "code",
      "source": [
        "from itertools import cycle\n",
        " \n",
        " \n",
        "def spiral_matrix(size):\n",
        "    # Preparing an empty matrix\n",
        "    matrix = [[None] * size for _ in range(size)]\n",
        " \n",
        "    # Starting point\n",
        "    x, y = 0, 0\n",
        " \n",
        "    # (0, 1) represents moving right along the matrix row\n",
        "    # (0, -1) represents moving left along the matrix row\n",
        "    # (1, 0) represents moving down along the matrix column\n",
        "    # (-1, 0) represents moving up along the matrix column\n",
        "    movements = cycle(((0, 1), (1, 0), (0, -1), (-1, 0)))\n",
        "    dx, dy = next(movements)\n",
        " \n",
        "    for i in range(size**2):\n",
        "        matrix[x][y] = i + 1\n",
        "        xdx = x + dx\n",
        "        ydy = y + dy\n",
        "        if not 0 <= xdx < size or not 0 <= ydy < size or matrix[xdx][ydy] is not None:\n",
        "            dx, dy = next(movements)\n",
        "        x += dx\n",
        "        y += dy\n",
        "    return matrix"
      ],
      "metadata": {
        "id": "gA0ftLTmBuwu"
      },
      "execution_count": null,
      "outputs": []
    },
    {
      "cell_type": "markdown",
      "source": [
        "###ćwiczenie 25"
      ],
      "metadata": {
        "id": "ss3RSgGKiTVo"
      }
    },
    {
      "cell_type": "markdown",
      "source": [
        "- hasztag dłuższy niż > 5 odpada\n",
        "- lista posortowana alfabetycznie\n"
      ],
      "metadata": {
        "id": "m4EgGxw6iWht"
      }
    },
    {
      "cell_type": "code",
      "source": [
        "if element_list[i].startswith('d'):\n",
        "        # remove it\n",
        "        del(element_list[i])\n",
        "\n",
        "element_list.remove(element_list[index])"
      ],
      "metadata": {
        "id": "ZaTxmenNmMuZ"
      },
      "execution_count": null,
      "outputs": []
    },
    {
      "cell_type": "code",
      "source": [
        "while index < len(element_list):\n",
        "    # check if element begins with 'd'\n",
        "    if element_list[index].startswith('d'):\n",
        "        # remove it\n",
        "        del(element_list[index])\n",
        "    else:\n",
        "        index += 1"
      ],
      "metadata": {
        "id": "8Lf286nPoXGm"
      },
      "execution_count": null,
      "outputs": []
    },
    {
      "cell_type": "code",
      "source": [
        "import sys\n",
        "\n",
        "sys.version"
      ],
      "metadata": {
        "id": "Oy0bbjy9p8dW",
        "outputId": "efb75673-9164-4b30-c83d-d5a849710db0",
        "colab": {
          "base_uri": "https://localhost:8080/",
          "height": 35
        }
      },
      "execution_count": null,
      "outputs": [
        {
          "output_type": "execute_result",
          "data": {
            "application/vnd.google.colaboratory.intrinsic+json": {
              "type": "string"
            },
            "text/plain": [
              "'3.7.12 (default, Jan 15 2022, 18:48:18) \\n[GCC 7.5.0]'"
            ]
          },
          "metadata": {},
          "execution_count": 69
        }
      ]
    },
    {
      "cell_type": "code",
      "source": [
        "with open('hashtags.txt', 'r') as file:\n",
        "  hashTags = file.read()\n",
        "\n",
        "def clean_hashtags(hashTags):\n",
        "  hashList = hashTags.split()\n",
        "  \n",
        "  idx = 0\n",
        "\n",
        "  while idx < len(hashList):\n",
        "    if len(hashList[idx]) >= 6:\n",
        "      del(hashList[idx])\n",
        "    else:\n",
        "      idx += 1\n",
        "\n",
        "  print(sorted(hashList))\n"
      ],
      "metadata": {
        "id": "ziIAIh70ih1O"
      },
      "execution_count": null,
      "outputs": []
    },
    {
      "cell_type": "code",
      "source": [
        "clean_hashtags(hashTags)"
      ],
      "metadata": {
        "id": "cqgtNblZjIHW",
        "outputId": "4dca3059-0ae7-4d2d-88b4-c58cecf521bc",
        "colab": {
          "base_uri": "https://localhost:8080/"
        }
      },
      "execution_count": null,
      "outputs": [
        {
          "output_type": "stream",
          "name": "stdout",
          "text": [
            "['#bike', '#fit', '#fun', '#gym', '#like', '#love', '#mma', '#nike', '#run', '#team', '#ufc', '#yoga']\n"
          ]
        }
      ]
    },
    {
      "cell_type": "code",
      "source": [
        "def clean_hashtags():\n",
        "    with open('hashtags.txt', 'r') as file:\n",
        "        content = file.read()\n",
        "    hashtags = content.split()\n",
        "    short_hashtags = [hashtag for hashtag in hashtags if len(hashtag) <= 5]\n",
        "    result = sorted(set(short_hashtags))\n",
        "    return result\n",
        " \n",
        "print(clean_hashtags())"
      ],
      "metadata": {
        "id": "hXKklmMXqY6O",
        "outputId": "04838098-1137-4c05-9168-0905d72113af",
        "colab": {
          "base_uri": "https://localhost:8080/"
        }
      },
      "execution_count": null,
      "outputs": [
        {
          "output_type": "stream",
          "name": "stdout",
          "text": [
            "['#bike', '#fit', '#fun', '#gym', '#like', '#love', '#mma', '#nike', '#run', '#team', '#ufc', '#yoga']\n"
          ]
        }
      ]
    },
    {
      "cell_type": "markdown",
      "source": [
        "###ćwiczenie 26"
      ],
      "metadata": {
        "id": "SZB9HjQg3mVV"
      }
    },
    {
      "cell_type": "markdown",
      "source": [
        "funkcja clean_hashtags: \n",
        "- input_file\n",
        "- output_file\n",
        "- length"
      ],
      "metadata": {
        "id": "p6ePNR3F3x7f"
      }
    },
    {
      "cell_type": "markdown",
      "source": [
        "- pobiera plik\n",
        "- czyszczenie hashtagów\n",
        "- przekazanie do listy hashtagów o podanej długości\n",
        "- usunięcie dubli\n",
        "-zapis do nowego pliku"
      ],
      "metadata": {
        "id": "a-dyOj1j3p3I"
      }
    },
    {
      "cell_type": "markdown",
      "source": [
        "short_hashtags = [hashtag for hashtag in hashtags if len(hashtag) <= 5]"
      ],
      "metadata": {
        "id": "KOwm16gK4601"
      }
    },
    {
      "cell_type": "code",
      "source": [
        "def clean_hashtags(input_file, output_file, length):\n",
        "  with open(input_file, 'r') as file:\n",
        "    hashtags = file.read()\n",
        "\n",
        "  split_hashtags = hashtags.split()\n",
        "\n",
        "  clean_hashtags = [hashtag for hashtag in split_hashtags if len(hashtag) == length]\n",
        "\n",
        "  result = sorted(set(clean_hashtags))\n",
        "\n",
        "  with open(output_file, 'w') as file:\n",
        "    for i in result:\n",
        "      file.write(i+\"\\n\")\n",
        "  "
      ],
      "metadata": {
        "id": "lUOyNAES3lH7"
      },
      "execution_count": null,
      "outputs": []
    },
    {
      "cell_type": "code",
      "source": [
        "clean_hashtags(\"hashtags.txt\", \"clean2.txt\", 5)"
      ],
      "metadata": {
        "id": "YjL47npW4mbe"
      },
      "execution_count": null,
      "outputs": []
    },
    {
      "cell_type": "markdown",
      "source": [
        "###ćwiczenie 27"
      ],
      "metadata": {
        "id": "aUQFpF0XAIz1"
      }
    },
    {
      "cell_type": "markdown",
      "source": [
        "Binary Number = 1001111\n",
        "Decimal value = (1*(2^6)) + (0*(2^5)) + (0*(2^4)) + (1*(2^3)) + (1*(2^2)) + (1*(2^1)) + (1*(2^0))\n",
        "              = 79"
      ],
      "metadata": {
        "id": "PQAd6tuBBKa8"
      }
    },
    {
      "cell_type": "code",
      "source": [
        "int(\"0111111000100101\",2)"
      ],
      "metadata": {
        "id": "4AHDHAQZD4g4",
        "outputId": "5af90de1-09e9-44dd-e333-d56b10d6a703",
        "colab": {
          "base_uri": "https://localhost:8080/"
        }
      },
      "execution_count": null,
      "outputs": [
        {
          "output_type": "execute_result",
          "data": {
            "text/plain": [
              "32293"
            ]
          },
          "metadata": {},
          "execution_count": 10
        }
      ]
    },
    {
      "cell_type": "code",
      "source": [
        "def binary_to_int():\n",
        "  with open('binary.txt', 'r') as file:\n",
        "    binaries = file.readlines()\n",
        "\n",
        "  decimals = []\n",
        "  \n",
        "  for bin in binaries:\n",
        "    decimals.append(int(str(bin), 2))\n",
        "\n",
        "  return decimals"
      ],
      "metadata": {
        "id": "jAp1k8JuALsy"
      },
      "execution_count": null,
      "outputs": []
    },
    {
      "cell_type": "code",
      "source": [
        "binary_to_int()"
      ],
      "metadata": {
        "id": "jLqYZiNxBckQ",
        "outputId": "0e9210de-f978-4fde-d4bd-50e681eb7941",
        "colab": {
          "base_uri": "https://localhost:8080/"
        }
      },
      "execution_count": null,
      "outputs": [
        {
          "output_type": "execute_result",
          "data": {
            "text/plain": [
              "[32293,\n",
              " 44802,\n",
              " 11290,\n",
              " 61820,\n",
              " 19270,\n",
              " 4638,\n",
              " 1749,\n",
              " 10344,\n",
              " 17165,\n",
              " 8129,\n",
              " 31236,\n",
              " 43147,\n",
              " 8728,\n",
              " 17654,\n",
              " 9467]"
            ]
          },
          "metadata": {},
          "execution_count": 14
        }
      ]
    },
    {
      "cell_type": "markdown",
      "source": [
        "###ćwiczenie 30"
      ],
      "metadata": {
        "id": "wfH4aDzRes0q"
      }
    },
    {
      "cell_type": "code",
      "source": [
        "from collections import namedtuple\n",
        "Point = namedtuple('Point', ['x', 'y'])"
      ],
      "metadata": {
        "id": "P77_FVWeevxo"
      },
      "execution_count": 1,
      "outputs": []
    },
    {
      "cell_type": "code",
      "source": [
        "p = Point(11, y=22) \n"
      ],
      "metadata": {
        "id": "tz4LkQoqfHrd"
      },
      "execution_count": 4,
      "outputs": []
    },
    {
      "cell_type": "code",
      "source": [
        "p"
      ],
      "metadata": {
        "id": "8Z7QlyZPfTRF",
        "outputId": "d7b9769a-6e4d-4c8c-ff7e-2554529e493c",
        "colab": {
          "base_uri": "https://localhost:8080/"
        }
      },
      "execution_count": 6,
      "outputs": [
        {
          "output_type": "execute_result",
          "data": {
            "text/plain": [
              "Point(x=11, y=22)"
            ]
          },
          "metadata": {},
          "execution_count": 6
        }
      ]
    },
    {
      "cell_type": "code",
      "source": [
        "p[0] + p[1]"
      ],
      "metadata": {
        "id": "Wb2Ks5mVfRuo",
        "outputId": "b4cecbec-c426-43c6-c8db-7530fa70ef9f",
        "colab": {
          "base_uri": "https://localhost:8080/"
        }
      },
      "execution_count": 5,
      "outputs": [
        {
          "output_type": "execute_result",
          "data": {
            "text/plain": [
              "33"
            ]
          },
          "metadata": {},
          "execution_count": 5
        }
      ]
    },
    {
      "cell_type": "code",
      "source": [
        "#EmployeeRecord = namedtuple('EmployeeRecord', 'name, age, title, department, paygrade')\n",
        "#for emp in map(EmployeeRecord._make, csv.reader(open(\"employees.csv\", \"rb\"))):\n",
        "    #print(emp.name, emp.title)"
      ],
      "metadata": {
        "id": "OV7Dx0Mthzm9"
      },
      "execution_count": null,
      "outputs": []
    },
    {
      "cell_type": "code",
      "source": [
        "import json\n",
        "from collections import namedtuple\n",
        "\n",
        "def json_to_object():\n",
        "    # Extract data\n",
        "    with open('users.json', 'r') as file:\n",
        "        content = json.load(file)\n",
        " \n",
        "    # Extract all the attribute names\n",
        "    attributes = tuple(content[0].keys())\n",
        " \n",
        "    # Create a User class\n",
        "    User = namedtuple('User', attributes)\n",
        " \n",
        "    # Create and return instances of the User class\n",
        "    values = [tuple(user.values()) for user in content]\n",
        "    users = [User(*user) for user in values]\n",
        "    return users"
      ],
      "metadata": {
        "id": "-PRP7-gRfigP"
      },
      "execution_count": 25,
      "outputs": []
    },
    {
      "cell_type": "code",
      "source": [
        "json_to_object()"
      ],
      "metadata": {
        "id": "aXVbX0aUhVbF",
        "outputId": "cd9b5411-a9ad-459a-d743-453467b62cdd",
        "colab": {
          "base_uri": "https://localhost:8080/"
        }
      },
      "execution_count": 26,
      "outputs": [
        {
          "output_type": "execute_result",
          "data": {
            "text/plain": [
              "[User(id=1, first_name='Huntington', last_name='McComiskie', email='hmccomiskie0@admin.ch', gender=None, is_active=False),\n",
              " User(id=2, first_name='Lukas', last_name='Cottrill', email='lcottrill1@linkedin.com', gender=None, is_active=True),\n",
              " User(id=3, first_name='Heath', last_name='Rourke', email='hrourke2@t.co', gender='Genderfluid', is_active=True),\n",
              " User(id=4, first_name='Lucie', last_name='Brunetti', email='lbrunetti3@bbb.org', gender='Non-binary', is_active=True),\n",
              " User(id=5, first_name='Minette', last_name='Graysmark', email='mgraysmark4@fotki.com', gender=None, is_active=True),\n",
              " User(id=6, first_name='Stormi', last_name='Thresher', email='sthresher5@umn.edu', gender='Non-binary', is_active=True),\n",
              " User(id=7, first_name='Rochella', last_name='Berry', email='rberry6@moonfruit.com', gender='Female', is_active=False),\n",
              " User(id=8, first_name='Lock', last_name='Pablo', email='lpablo7@networkadvertising.org', gender='Genderqueer', is_active=False),\n",
              " User(id=9, first_name='Anton', last_name='Hugnin', email='ahugnin8@flickr.com', gender='Genderqueer', is_active=True),\n",
              " User(id=10, first_name='Stephi', last_name='Jacqueme', email='sjacqueme9@exblog.jp', gender='Male', is_active=False)]"
            ]
          },
          "metadata": {},
          "execution_count": 26
        }
      ]
    }
  ]
}