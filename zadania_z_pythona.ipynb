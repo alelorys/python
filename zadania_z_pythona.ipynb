{
  "nbformat": 4,
  "nbformat_minor": 0,
  "metadata": {
    "colab": {
      "name": "zadania z pythona.ipynb",
      "provenance": [],
      "collapsed_sections": [],
      "authorship_tag": "ABX9TyPjMdXj8m1e4bx+thKrskAw",
      "include_colab_link": true
    },
    "kernelspec": {
      "name": "python3",
      "display_name": "Python 3"
    },
    "language_info": {
      "name": "python"
    }
  },
  "cells": [
    {
      "cell_type": "markdown",
      "metadata": {
        "id": "view-in-github",
        "colab_type": "text"
      },
      "source": [
        "<a href=\"https://colab.research.google.com/github/alelorys/python/blob/master/zadania_z_pythona.ipynb\" target=\"_parent\"><img src=\"https://colab.research.google.com/assets/colab-badge.svg\" alt=\"Open In Colab\"/></a>"
      ]
    },
    {
      "cell_type": "markdown",
      "source": [
        "**Kurs Udemy 100+ Zaawansowanych ćwiczeń z pythona https://www.udemy.com/course/zaawansowane-programowanie-w-jezyku-python/learn/quiz/5208620#overview**"
      ],
      "metadata": {
        "id": "j59UJakYq1wH"
      }
    },
    {
      "cell_type": "code",
      "source": [
        "from itertools import groupby"
      ],
      "metadata": {
        "id": "E_mDY-jNHnJj"
      },
      "execution_count": 1,
      "outputs": []
    },
    {
      "cell_type": "code",
      "execution_count": null,
      "metadata": {
        "id": "vtW0K5pypyBA"
      },
      "outputs": [],
      "source": [
        "\n",
        " \n",
        " \n",
        "def compress(number):\n",
        "    result = []\n",
        "    for key, group in groupby(str(number)):\n",
        "        result.append((key, str(len(list(group)))))\n",
        "    result = [''.join(item) for item in result]\n",
        "    return '_'.join(result)"
      ]
    },
    {
      "cell_type": "markdown",
      "source": [
        "Ćwiczenie 14"
      ],
      "metadata": {
        "id": "7iAzQZo5qvxu"
      }
    },
    {
      "cell_type": "code",
      "source": [
        "def compress(number):\n",
        "    result = []\n",
        "    for key, group in groupby(str(number)):\n",
        "        result.append((key, str(len(list(group)))))\n",
        "        \n",
        "    for e, item in enumerate(result):\n",
        "      i = list(item)\n",
        "      i[1] = i[1].replace(i[1], '.'*int(i[1]))\n",
        "      result[e] = i\n",
        "\n",
        "    result = [''.join(item) for item in result]\n",
        "    return ''.join(result)\n",
        "      "
      ],
      "metadata": {
        "id": "1zhzbIaxrbP0"
      },
      "execution_count": null,
      "outputs": []
    },
    {
      "cell_type": "code",
      "source": [
        "def compress(number):\n",
        "    result = []\n",
        "    for key, group in groupby(str(number)):\n",
        "        result.append((key, len(list(group))))\n",
        "    result = [''.join((i, '.' * j)) for i, j in result]\n",
        "    return ''.join(result)"
      ],
      "metadata": {
        "id": "7vFRiUZwu2D4"
      },
      "execution_count": null,
      "outputs": []
    },
    {
      "cell_type": "code",
      "source": [
        "compress(11112215544)"
      ],
      "metadata": {
        "colab": {
          "base_uri": "https://localhost:8080/",
          "height": 35
        },
        "id": "P3M61XDArCId",
        "outputId": "d09ce7f4-092d-462e-88d0-68a28270b346"
      },
      "execution_count": null,
      "outputs": [
        {
          "output_type": "execute_result",
          "data": {
            "application/vnd.google.colaboratory.intrinsic+json": {
              "type": "string"
            },
            "text/plain": [
              "'1....2..1.5..4..'"
            ]
          },
          "metadata": {},
          "execution_count": 32
        }
      ]
    },
    {
      "cell_type": "markdown",
      "source": [
        "Ćwiczenie 15\n"
      ],
      "metadata": {
        "id": "z5f0pLF2HZCs"
      }
    },
    {
      "cell_type": "code",
      "source": [
        "def compress(number):\n",
        "    result = []\n",
        "    for key, group in groupby(str(number)):\n",
        "        result.append((key, str(len(list(group)))))\n",
        "    result = [''.join(item) for item in result]\n",
        "    return '_'.join(result)"
      ],
      "metadata": {
        "id": "pRFkHrsmHar3"
      },
      "execution_count": null,
      "outputs": []
    },
    {
      "cell_type": "code",
      "source": [
        "string = compress(1111555533644)"
      ],
      "metadata": {
        "id": "82dBh0MyHcVB"
      },
      "execution_count": null,
      "outputs": []
    },
    {
      "cell_type": "code",
      "source": [
        "def decompress(string):\n",
        "  elements = string.split(\"_\")\n",
        "  number = ''\n",
        "  for i in elements:\n",
        "    number += i[0] * int(i[1])\n",
        "  \n",
        "  return int(number)"
      ],
      "metadata": {
        "id": "1KDEU58EHqmq"
      },
      "execution_count": null,
      "outputs": []
    },
    {
      "cell_type": "code",
      "source": [
        "decompress(string)"
      ],
      "metadata": {
        "id": "BgHEHckCH45F",
        "outputId": "af38b08b-5103-418a-f627-bda39d75d9ed",
        "colab": {
          "base_uri": "https://localhost:8080/"
        }
      },
      "execution_count": null,
      "outputs": [
        {
          "output_type": "execute_result",
          "data": {
            "text/plain": [
              "1111555533644"
            ]
          },
          "metadata": {},
          "execution_count": 29
        }
      ]
    },
    {
      "cell_type": "markdown",
      "source": [
        "Ćwiczenie 16"
      ],
      "metadata": {
        "id": "JnUeIHQWJsdV"
      }
    },
    {
      "cell_type": "code",
      "source": [
        "class Matrix:\n",
        "  \n",
        "  def __init__(self, string):\n",
        "      self.string = string.split(\"\\n\")\n",
        "      self.matrix = []\n",
        "      for i in self.string:\n",
        "          i = i.split(\" \")\n",
        "          for e, j in enumerate(i):\n",
        "            j = int(j)\n",
        "            i[e] = j\n",
        "          self.matrix.append(i)\n",
        "     \n",
        "\n",
        "\n",
        "matix = Matrix('1 2\\n3 4')\n",
        "matix.matrix"
      ],
      "metadata": {
        "id": "FVxKLx2nJuek",
        "outputId": "723e1d3e-62c9-4aac-edb1-1b3bbdbb1a12",
        "colab": {
          "base_uri": "https://localhost:8080/"
        }
      },
      "execution_count": null,
      "outputs": [
        {
          "output_type": "execute_result",
          "data": {
            "text/plain": [
              "[[1, 2], [3, 4]]"
            ]
          },
          "metadata": {},
          "execution_count": 54
        }
      ]
    },
    {
      "cell_type": "markdown",
      "source": [
        "self.matrix = [[int(i) for i in row.split()] for row in string.splitlines()]"
      ],
      "metadata": {
        "id": "Bblc4scUOSB1"
      }
    },
    {
      "cell_type": "code",
      "source": [
        ""
      ],
      "metadata": {
        "id": "4ShgktaxOPyX"
      },
      "execution_count": null,
      "outputs": []
    },
    {
      "cell_type": "markdown",
      "source": [
        "ćwiczenie 17"
      ],
      "metadata": {
        "id": "C2V7cd2i0LOb"
      }
    },
    {
      "cell_type": "code",
      "source": [
        "class Matrix:\n",
        "    \"\"\"Simple Matrix class.\"\"\"\n",
        "\n",
        "    def __init__(self, string):\n",
        "        self.matrix = [[int(i) for i in row.split()] for row in string.splitlines()]\n",
        "\n",
        "    def __repr__(self):\n",
        "      return '\\n'.join([(' '.join([str(i) for i in row])) for row in self.matrix])\n",
        "      "
      ],
      "metadata": {
        "id": "WWW_ag-x0Ose"
      },
      "execution_count": 18,
      "outputs": []
    },
    {
      "cell_type": "code",
      "source": [
        "m = Matrix('1')\n",
        "m.__repr__()"
      ],
      "metadata": {
        "id": "Phkml0qf0dwv",
        "outputId": "db9b6657-ed5f-4c64-fb2a-713c10518046",
        "colab": {
          "base_uri": "https://localhost:8080/",
          "height": 35
        }
      },
      "execution_count": 19,
      "outputs": [
        {
          "output_type": "execute_result",
          "data": {
            "application/vnd.google.colaboratory.intrinsic+json": {
              "type": "string"
            },
            "text/plain": [
              "'1'"
            ]
          },
          "metadata": {},
          "execution_count": 19
        }
      ]
    },
    {
      "cell_type": "markdown",
      "source": [
        "ćwiczenie 18\n"
      ],
      "metadata": {
        "id": "_wviGvzo3Ijw"
      }
    },
    {
      "cell_type": "code",
      "source": [
        "class Matrix:\n",
        "    \"\"\"Simple Matrix class.\"\"\"\n",
        "\n",
        "    def __init__(self, string):\n",
        "        self.matrix = [[int(i) for i in row.split()] for row in string.splitlines()]\n",
        "\n",
        "    def __repr__(self):\n",
        "        return '\\n'.join([(' '.join([str(i) for i in row])) for row in self.matrix])\n",
        "\n",
        "    def row(self, idx):\n",
        "      return self.matrix[idx]\n",
        "      "
      ],
      "metadata": {
        "id": "QCC0Ukt33K71"
      },
      "execution_count": 20,
      "outputs": []
    },
    {
      "cell_type": "code",
      "source": [
        "m1 = Matrix('4 5\\n6 3')\n",
        "m1.row(0)"
      ],
      "metadata": {
        "id": "1JMdpQAa3qiC",
        "outputId": "088f7c9c-40da-4c64-8c7d-eca4ac75cc7a",
        "colab": {
          "base_uri": "https://localhost:8080/"
        }
      },
      "execution_count": 21,
      "outputs": [
        {
          "output_type": "execute_result",
          "data": {
            "text/plain": [
              "[4, 5]"
            ]
          },
          "metadata": {},
          "execution_count": 21
        }
      ]
    },
    {
      "cell_type": "markdown",
      "source": [
        "ćwiczenie 19"
      ],
      "metadata": {
        "id": "jusisxpc3_2_"
      }
    },
    {
      "cell_type": "code",
      "source": [
        "class Matrix:\n",
        "    \"\"\"Simple Matrix class.\"\"\"\n",
        "\n",
        "    def __init__(self, string):\n",
        "        self.matrix = [[int(i) for i in row.split()] for row in string.splitlines()]\n",
        "\n",
        "    def __repr__(self):\n",
        "        return '\\n'.join([(' '.join([str(i) for i in row])) for row in self.matrix])\n",
        "\n",
        "    def row(self, idx):\n",
        "      return self.matrix[idx]\n",
        "\n",
        "    def column(self, idx):\n",
        "      return [row[idx] for row in self.matrix]"
      ],
      "metadata": {
        "id": "vlsz7DSa4B6l"
      },
      "execution_count": 22,
      "outputs": []
    },
    {
      "cell_type": "code",
      "source": [
        "m2 = Matrix('3 5\\n9 6')\n",
        "m2.column(0)"
      ],
      "metadata": {
        "id": "J0vm8Atz4xas",
        "outputId": "eacd2ad8-bcfd-4cc5-dbcf-74dbaf62d1cf",
        "colab": {
          "base_uri": "https://localhost:8080/"
        }
      },
      "execution_count": 23,
      "outputs": [
        {
          "output_type": "execute_result",
          "data": {
            "text/plain": [
              "[3, 9]"
            ]
          },
          "metadata": {},
          "execution_count": 23
        }
      ]
    },
    {
      "cell_type": "markdown",
      "source": [
        "ćwiczenie 20"
      ],
      "metadata": {
        "id": "VIGxtbm25PNc"
      }
    },
    {
      "cell_type": "code",
      "source": [
        "def hamming_distance(u, v):\n",
        "  count = 0\n",
        "  if len(u) != len(v):\n",
        "    raise ValueError('Both vectors must be the same lenght')\n",
        "  \n",
        "  for i, j in zip(u,v):\n",
        "    if i != j:\n",
        "      count += 1\n",
        "  \n",
        "  return count"
      ],
      "metadata": {
        "id": "T8UrxWYO5T06"
      },
      "execution_count": 28,
      "outputs": []
    },
    {
      "cell_type": "code",
      "source": [
        "hamming_distance('11001','10101')"
      ],
      "metadata": {
        "id": "Vq3QF65L6bTP",
        "outputId": "ea1ef0be-884f-4f58-a521-b99d4753f87a",
        "colab": {
          "base_uri": "https://localhost:8080/"
        }
      },
      "execution_count": 29,
      "outputs": [
        {
          "output_type": "stream",
          "name": "stdout",
          "text": [
            "1 1\n",
            "1 0\n",
            "0 1\n",
            "0 0\n",
            "1 1\n"
          ]
        },
        {
          "output_type": "execute_result",
          "data": {
            "text/plain": [
              "2"
            ]
          },
          "metadata": {},
          "execution_count": 29
        }
      ]
    }
  ]
}