{
  "nbformat": 4,
  "nbformat_minor": 0,
  "metadata": {
    "colab": {
      "name": "zadania z pythona.ipynb",
      "provenance": [],
      "collapsed_sections": [],
      "authorship_tag": "ABX9TyNgZcM2Coem0htD6KfhphAu",
      "include_colab_link": true
    },
    "kernelspec": {
      "name": "python3",
      "display_name": "Python 3"
    },
    "language_info": {
      "name": "python"
    }
  },
  "cells": [
    {
      "cell_type": "markdown",
      "metadata": {
        "id": "view-in-github",
        "colab_type": "text"
      },
      "source": [
        "<a href=\"https://colab.research.google.com/github/alelorys/python/blob/master/zadania_z_pythona.ipynb\" target=\"_parent\"><img src=\"https://colab.research.google.com/assets/colab-badge.svg\" alt=\"Open In Colab\"/></a>"
      ]
    },
    {
      "cell_type": "markdown",
      "source": [
        "**Kurs Udemy 100+ Zaawansowanych ćwiczeń z pythona https://www.udemy.com/course/zaawansowane-programowanie-w-jezyku-python/learn/quiz/5208620#overview**"
      ],
      "metadata": {
        "id": "j59UJakYq1wH"
      }
    },
    {
      "cell_type": "code",
      "execution_count": null,
      "metadata": {
        "id": "vtW0K5pypyBA"
      },
      "outputs": [],
      "source": [
        "from itertools import groupby\n",
        " \n",
        " \n",
        "def compress(number):\n",
        "    result = []\n",
        "    for key, group in groupby(str(number)):\n",
        "        result.append((key, str(len(list(group)))))\n",
        "    result = [''.join(item) for item in result]\n",
        "    return '_'.join(result)"
      ]
    },
    {
      "cell_type": "markdown",
      "source": [
        "Ćwiczenie 15"
      ],
      "metadata": {
        "id": "7iAzQZo5qvxu"
      }
    },
    {
      "cell_type": "code",
      "source": [
        "def compress(number):\n",
        "    result = []\n",
        "    for key, group in groupby(str(number)):\n",
        "        result.append((key, str(len(list(group)))))\n",
        "        \n",
        "    for e, item in enumerate(result):\n",
        "      i = list(item)\n",
        "      i[1] = i[1].replace(i[1], '.'*int(i[1]))\n",
        "      result[e] = i\n",
        "\n",
        "    result = [''.join(item) for item in result]\n",
        "    return ''.join(result)\n",
        "      "
      ],
      "metadata": {
        "id": "1zhzbIaxrbP0"
      },
      "execution_count": null,
      "outputs": []
    },
    {
      "cell_type": "code",
      "source": [
        "def compress(number):\n",
        "    result = []\n",
        "    for key, group in groupby(str(number)):\n",
        "        result.append((key, len(list(group))))\n",
        "    result = [''.join((i, '.' * j)) for i, j in result]\n",
        "    return ''.join(result)"
      ],
      "metadata": {
        "id": "7vFRiUZwu2D4"
      },
      "execution_count": null,
      "outputs": []
    },
    {
      "cell_type": "code",
      "source": [
        "compress(11112215544)"
      ],
      "metadata": {
        "colab": {
          "base_uri": "https://localhost:8080/",
          "height": 35
        },
        "id": "P3M61XDArCId",
        "outputId": "d09ce7f4-092d-462e-88d0-68a28270b346"
      },
      "execution_count": null,
      "outputs": [
        {
          "output_type": "execute_result",
          "data": {
            "application/vnd.google.colaboratory.intrinsic+json": {
              "type": "string"
            },
            "text/plain": [
              "'1....2..1.5..4..'"
            ]
          },
          "metadata": {},
          "execution_count": 32
        }
      ]
    }
  ]
}